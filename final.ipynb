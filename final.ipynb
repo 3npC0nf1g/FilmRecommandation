{
  "cells": [
    {
      "cell_type": "code",
      "execution_count": 1,
      "metadata": {
        "colab": {
          "base_uri": "https://localhost:8080/",
          "height": 91
        },
        "id": "SMqvwRaXHVZM",
        "outputId": "a5a5e826-a2e4-475a-a365-d0e5f1483063"
      },
      "outputs": [
        {
          "output_type": "display_data",
          "data": {
            "text/plain": [
              "<IPython.core.display.HTML object>"
            ],
            "text/html": [
              "\n",
              "     <input type=\"file\" id=\"files-888883a3-6f5f-461e-857c-282cabcd8634\" name=\"files[]\" multiple disabled\n",
              "        style=\"border:none\" />\n",
              "     <output id=\"result-888883a3-6f5f-461e-857c-282cabcd8634\">\n",
              "      Upload widget is only available when the cell has been executed in the\n",
              "      current browser session. Please rerun this cell to enable.\n",
              "      </output>\n",
              "      <script>// Copyright 2017 Google LLC\n",
              "//\n",
              "// Licensed under the Apache License, Version 2.0 (the \"License\");\n",
              "// you may not use this file except in compliance with the License.\n",
              "// You may obtain a copy of the License at\n",
              "//\n",
              "//      http://www.apache.org/licenses/LICENSE-2.0\n",
              "//\n",
              "// Unless required by applicable law or agreed to in writing, software\n",
              "// distributed under the License is distributed on an \"AS IS\" BASIS,\n",
              "// WITHOUT WARRANTIES OR CONDITIONS OF ANY KIND, either express or implied.\n",
              "// See the License for the specific language governing permissions and\n",
              "// limitations under the License.\n",
              "\n",
              "/**\n",
              " * @fileoverview Helpers for google.colab Python module.\n",
              " */\n",
              "(function(scope) {\n",
              "function span(text, styleAttributes = {}) {\n",
              "  const element = document.createElement('span');\n",
              "  element.textContent = text;\n",
              "  for (const key of Object.keys(styleAttributes)) {\n",
              "    element.style[key] = styleAttributes[key];\n",
              "  }\n",
              "  return element;\n",
              "}\n",
              "\n",
              "// Max number of bytes which will be uploaded at a time.\n",
              "const MAX_PAYLOAD_SIZE = 100 * 1024;\n",
              "\n",
              "function _uploadFiles(inputId, outputId) {\n",
              "  const steps = uploadFilesStep(inputId, outputId);\n",
              "  const outputElement = document.getElementById(outputId);\n",
              "  // Cache steps on the outputElement to make it available for the next call\n",
              "  // to uploadFilesContinue from Python.\n",
              "  outputElement.steps = steps;\n",
              "\n",
              "  return _uploadFilesContinue(outputId);\n",
              "}\n",
              "\n",
              "// This is roughly an async generator (not supported in the browser yet),\n",
              "// where there are multiple asynchronous steps and the Python side is going\n",
              "// to poll for completion of each step.\n",
              "// This uses a Promise to block the python side on completion of each step,\n",
              "// then passes the result of the previous step as the input to the next step.\n",
              "function _uploadFilesContinue(outputId) {\n",
              "  const outputElement = document.getElementById(outputId);\n",
              "  const steps = outputElement.steps;\n",
              "\n",
              "  const next = steps.next(outputElement.lastPromiseValue);\n",
              "  return Promise.resolve(next.value.promise).then((value) => {\n",
              "    // Cache the last promise value to make it available to the next\n",
              "    // step of the generator.\n",
              "    outputElement.lastPromiseValue = value;\n",
              "    return next.value.response;\n",
              "  });\n",
              "}\n",
              "\n",
              "/**\n",
              " * Generator function which is called between each async step of the upload\n",
              " * process.\n",
              " * @param {string} inputId Element ID of the input file picker element.\n",
              " * @param {string} outputId Element ID of the output display.\n",
              " * @return {!Iterable<!Object>} Iterable of next steps.\n",
              " */\n",
              "function* uploadFilesStep(inputId, outputId) {\n",
              "  const inputElement = document.getElementById(inputId);\n",
              "  inputElement.disabled = false;\n",
              "\n",
              "  const outputElement = document.getElementById(outputId);\n",
              "  outputElement.innerHTML = '';\n",
              "\n",
              "  const pickedPromise = new Promise((resolve) => {\n",
              "    inputElement.addEventListener('change', (e) => {\n",
              "      resolve(e.target.files);\n",
              "    });\n",
              "  });\n",
              "\n",
              "  const cancel = document.createElement('button');\n",
              "  inputElement.parentElement.appendChild(cancel);\n",
              "  cancel.textContent = 'Cancel upload';\n",
              "  const cancelPromise = new Promise((resolve) => {\n",
              "    cancel.onclick = () => {\n",
              "      resolve(null);\n",
              "    };\n",
              "  });\n",
              "\n",
              "  // Wait for the user to pick the files.\n",
              "  const files = yield {\n",
              "    promise: Promise.race([pickedPromise, cancelPromise]),\n",
              "    response: {\n",
              "      action: 'starting',\n",
              "    }\n",
              "  };\n",
              "\n",
              "  cancel.remove();\n",
              "\n",
              "  // Disable the input element since further picks are not allowed.\n",
              "  inputElement.disabled = true;\n",
              "\n",
              "  if (!files) {\n",
              "    return {\n",
              "      response: {\n",
              "        action: 'complete',\n",
              "      }\n",
              "    };\n",
              "  }\n",
              "\n",
              "  for (const file of files) {\n",
              "    const li = document.createElement('li');\n",
              "    li.append(span(file.name, {fontWeight: 'bold'}));\n",
              "    li.append(span(\n",
              "        `(${file.type || 'n/a'}) - ${file.size} bytes, ` +\n",
              "        `last modified: ${\n",
              "            file.lastModifiedDate ? file.lastModifiedDate.toLocaleDateString() :\n",
              "                                    'n/a'} - `));\n",
              "    const percent = span('0% done');\n",
              "    li.appendChild(percent);\n",
              "\n",
              "    outputElement.appendChild(li);\n",
              "\n",
              "    const fileDataPromise = new Promise((resolve) => {\n",
              "      const reader = new FileReader();\n",
              "      reader.onload = (e) => {\n",
              "        resolve(e.target.result);\n",
              "      };\n",
              "      reader.readAsArrayBuffer(file);\n",
              "    });\n",
              "    // Wait for the data to be ready.\n",
              "    let fileData = yield {\n",
              "      promise: fileDataPromise,\n",
              "      response: {\n",
              "        action: 'continue',\n",
              "      }\n",
              "    };\n",
              "\n",
              "    // Use a chunked sending to avoid message size limits. See b/62115660.\n",
              "    let position = 0;\n",
              "    do {\n",
              "      const length = Math.min(fileData.byteLength - position, MAX_PAYLOAD_SIZE);\n",
              "      const chunk = new Uint8Array(fileData, position, length);\n",
              "      position += length;\n",
              "\n",
              "      const base64 = btoa(String.fromCharCode.apply(null, chunk));\n",
              "      yield {\n",
              "        response: {\n",
              "          action: 'append',\n",
              "          file: file.name,\n",
              "          data: base64,\n",
              "        },\n",
              "      };\n",
              "\n",
              "      let percentDone = fileData.byteLength === 0 ?\n",
              "          100 :\n",
              "          Math.round((position / fileData.byteLength) * 100);\n",
              "      percent.textContent = `${percentDone}% done`;\n",
              "\n",
              "    } while (position < fileData.byteLength);\n",
              "  }\n",
              "\n",
              "  // All done.\n",
              "  yield {\n",
              "    response: {\n",
              "      action: 'complete',\n",
              "    }\n",
              "  };\n",
              "}\n",
              "\n",
              "scope.google = scope.google || {};\n",
              "scope.google.colab = scope.google.colab || {};\n",
              "scope.google.colab._files = {\n",
              "  _uploadFiles,\n",
              "  _uploadFilesContinue,\n",
              "};\n",
              "})(self);\n",
              "</script> "
            ]
          },
          "metadata": {}
        },
        {
          "output_type": "stream",
          "name": "stdout",
          "text": [
            "Saving kaggle.json to kaggle.json\n"
          ]
        },
        {
          "output_type": "execute_result",
          "data": {
            "text/plain": [
              "{'kaggle.json': b'{\"username\":\"amarhamouma\",\"key\":\"3c2351ea67223cf466bcfac2419b0568\"}'}"
            ]
          },
          "metadata": {},
          "execution_count": 1
        }
      ],
      "source": [
        "from google.colab import files\n",
        "files.upload()  # Upload the kaggle.json file"
      ]
    },
    {
      "cell_type": "code",
      "execution_count": 2,
      "metadata": {
        "id": "O7Y48PKvH2Yk"
      },
      "outputs": [],
      "source": [
        "!mkdir -p ~/.kaggle\n",
        "!cp kaggle.json ~/.kaggle/\n",
        "!chmod 600 ~/.kaggle/kaggle.json  # Set permissions"
      ]
    },
    {
      "cell_type": "code",
      "execution_count": 3,
      "metadata": {
        "colab": {
          "base_uri": "https://localhost:8080/"
        },
        "id": "v6O-zMHLIhH1",
        "outputId": "05631b72-acef-46e6-b0fc-33d95cae6e09"
      },
      "outputs": [
        {
          "output_type": "stream",
          "name": "stdout",
          "text": [
            "Dataset URL: https://www.kaggle.com/datasets/grouplens/movielens-20m-dataset\n",
            "License(s): unknown\n",
            "Downloading movielens-20m-dataset.zip to /content\n",
            "100% 195M/195M [00:10<00:00, 22.5MB/s]\n",
            "100% 195M/195M [00:10<00:00, 19.5MB/s]\n"
          ]
        }
      ],
      "source": [
        "!kaggle datasets download -d grouplens/movielens-20m-dataset"
      ]
    },
    {
      "cell_type": "code",
      "execution_count": 4,
      "metadata": {
        "colab": {
          "base_uri": "https://localhost:8080/"
        },
        "id": "yq2yL5ayI2mP",
        "outputId": "11c18416-e0ad-4cc6-b701-e07f6f985563"
      },
      "outputs": [
        {
          "output_type": "stream",
          "name": "stdout",
          "text": [
            "Archive:  movielens-20m-dataset.zip\n",
            "  inflating: genome_scores.csv       \n",
            "  inflating: genome_tags.csv         \n",
            "  inflating: link.csv                \n",
            "  inflating: movie.csv               \n",
            "  inflating: rating.csv              \n",
            "  inflating: tag.csv                 \n"
          ]
        }
      ],
      "source": [
        "!unzip movielens-20m-dataset.zip"
      ]
    },
    {
      "cell_type": "markdown",
      "source": [
        "## Imports"
      ],
      "metadata": {
        "id": "3Ahao8vMTGGk"
      }
    },
    {
      "cell_type": "code",
      "execution_count": 5,
      "metadata": {
        "id": "rFm8_MRDYeHn"
      },
      "outputs": [],
      "source": [
        "import pandas as pd\n",
        "import matplotlib.pyplot as plt\n",
        "from tqdm import tqdm  # For progress bars\n",
        "import numpy as np"
      ]
    },
    {
      "cell_type": "markdown",
      "source": [
        "## Loading data"
      ],
      "metadata": {
        "id": "Z_EoyS58TI_4"
      }
    },
    {
      "cell_type": "code",
      "execution_count": 52,
      "metadata": {
        "id": "ux2759EfJKf2"
      },
      "outputs": [],
      "source": [
        "def load_data(ratings_file, movies_file, min_ratings=100):\n",
        "    \"\"\"\n",
        "    Load and preprocess the dataset.\n",
        "    Args:\n",
        "        ratings_file (str): Path to the ratings file (e.g., rating.csv).\n",
        "        movies_file (str): Path to the movies metadata file (e.g., movies.csv).\n",
        "        min_ratings (int): Minimum number of ratings for a movie to be included.\n",
        "    Returns:\n",
        "        pd.DataFrame: Preprocessed reward history.\n",
        "        pd.DataFrame: Movies metadata.\n",
        "    \"\"\"\n",
        "    # Load ratings and movies metadata\n",
        "    rewards = pd.read_csv(ratings_file)\n",
        "    movies = pd.read_csv(movies_file)\n",
        "\n",
        "    # Convert ratings to binary (liked or not liked)\n",
        "\n",
        "    rewards[\"liked\"] = (rewards[\"rating\"] >= 4).astype(int)\n",
        "\n",
        "    # Filter movies with at least min_ratings\n",
        "    movie_rating_counts = rewards.groupby(\"movieId\")[\"liked\"].count()\n",
        "    #print(f\"movie_rating_counts ==== {movie_rating_counts}\")\n",
        "    valid_movies = movie_rating_counts[movie_rating_counts >= min_ratings].index\n",
        "\n",
        "    rewards = rewards[rewards[\"movieId\"].isin(valid_movies)]\n",
        "    #rewards = rewards[rewards[\"movieId\"].isin(valid_movies)].sample(random_state=42)\n",
        "    return rewards[:2000], movies"
      ]
    },
    {
      "cell_type": "markdown",
      "source": [
        "## Thompson Sampling Logic (one step)"
      ],
      "metadata": {
        "id": "WJnXMXtMTMUy"
      }
    },
    {
      "cell_type": "code",
      "execution_count": 53,
      "metadata": {
        "id": "tRzxCoxLJrdY"
      },
      "outputs": [],
      "source": [
        "import pandas as pd\n",
        "\n",
        "def thompson_sampling_step(alphas, betas, epsilon, movies_ids, users, rewards, movie_col_name, userr_col_name, reward_col_name):\n",
        "    \"\"\"\n",
        "    Perform one step of Thompson Sampling.\n",
        "\n",
        "    Args:\n",
        "        alphas (np.array): Alpha parameters for each movie.\n",
        "        betas (np.array): Beta parameters for each movie.\n",
        "        epsilon (float): Current exploration rate.\n",
        "        movies_ids (np.array): List of movie IDs.\n",
        "        users (np.array): List of user IDs.\n",
        "        rewards (pd.DataFrame): Historical data containing user-movie interactions and rewards.\n",
        "        movie_col_name (str): Column name for movies_ids (e.g., movies).\n",
        "        userr_col_name (str): Column name for users (e.g., users).\n",
        "        reward_col_name (str): Column name for rewards (e.g., liked or not).\n",
        "\n",
        "    Returns:\n",
        "        int: Selected item index.\n",
        "        int: Observed reward.\n",
        "    \"\"\"\n",
        "    while True:\n",
        "        # Choose a random user\n",
        "        user_id = np.random.choice(users)\n",
        "\n",
        "        # Select an item to offer the user\n",
        "        if np.random.random() < epsilon:\n",
        "            movie_idx = np.random.choice(len(movies_ids))  # Explore: choose a random item\n",
        "        else:\n",
        "            # Exploit: choose the item with the highest sampled mean\n",
        "            samples = np.random.beta(alphas, betas)\n",
        "            movie_idx = np.argmax(samples)\n",
        "\n",
        "        movie_id = movies_ids[movie_idx]\n",
        "\n",
        "        # Check if the pair exists in the historical data\n",
        "        reward = rewards[\n",
        "            (rewards[movie_col_name] == movie_id) &\n",
        "            (rewards[userr_col_name] == user_id)\n",
        "        ][reward_col_name]\n",
        "\n",
        "        if not reward.empty:\n",
        "            return movie_idx, reward.iloc[0]"
      ]
    },
    {
      "cell_type": "markdown",
      "source": [
        "## Simulation - Updating α and β"
      ],
      "metadata": {
        "id": "kLPoddkbTSLk"
      }
    },
    {
      "cell_type": "code",
      "execution_count": 54,
      "metadata": {
        "id": "-W75DoL7JYtq"
      },
      "outputs": [],
      "source": [
        "def run_simulation(n_users, rewards, movies, movie_col_name, userr_col_name, reward_col_name, n_iterations=1, epsilon=0.5, decay_rate=0.95):\n",
        "    \"\"\"\n",
        "    Run the Thompson Sampling simulation, limiting to 3000 films.\n",
        "\n",
        "    Args:\n",
        "        n_users (int): Number of users_evals to simulate per iteration.\n",
        "        rewards (pd.DataFrame): Historical data containing user-item interactions and rewards.\n",
        "        movies (pd.DataFrame): Movie metadata containing movieId and title.\n",
        "        movie_col_name (str): Column name for movies_ids (e.g., movies).\n",
        "        userr_col_name (str): Column name for users (e.g., users).\n",
        "        reward_col_name (str): Column name for rewards (e.g., liked or not).\n",
        "        n_iterations (int): Number of iterations to average over.\n",
        "        epsilon (float): Initial exploration rate.\n",
        "        decay_rate (float): Decay rate for exploration.\n",
        "\n",
        "    Returns:\n",
        "        pd.DataFrame: Results of the simulation.\n",
        "    \"\"\"\n",
        "    # Create a mapping from movieId to movie title\n",
        "    movie_name_mapping = dict(zip(movies[\"movieId\"], movies[\"title\"]))\n",
        "\n",
        "    # Get unique movies_ids and users\n",
        "    movies_ids = rewards[movie_col_name].unique()\n",
        "    users = rewards[userr_col_name].unique()\n",
        "\n",
        "    # Initialize results storage\n",
        "    all_results = []\n",
        "\n",
        "    # Run simulations\n",
        "    for iteration in tqdm(range(n_iterations), desc=\"Iterations\"):\n",
        "        # Reset algorithm state\n",
        "        alphas = np.ones(len(movies_ids))  # Success counts for each movie\n",
        "        betas = np.ones(len(movies_ids))   # Failure counts for each movie\n",
        "        epsilon_current = epsilon  # Current exploration rate\n",
        "\n",
        "        # Initialize metrics\n",
        "        cumulative_regret = 0\n",
        "\n",
        "        # Simulate users\n",
        "        for user in range(n_users):\n",
        "            # Perform one step of Thompson Sampling\n",
        "            movie_idx, reward_value = thompson_sampling_step(\n",
        "                alphas, betas, epsilon_current, movies_ids, users, rewards,\n",
        "                movie_col_name, userr_col_name, reward_col_name\n",
        "            )\n",
        "\n",
        "            # Update algorithm state\n",
        "            if reward_value == 1:\n",
        "                alphas[movie_idx] += 1\n",
        "            else:\n",
        "                betas[movie_idx] += 1\n",
        "\n",
        "            # Decay the exploration rate\n",
        "            epsilon_current *= decay_rate\n",
        "\n",
        "            # Calculate cumulative regret\n",
        "            optimal_reward = 1  # Assume the best possible reward is 1 (liked)\n",
        "            regret = optimal_reward - reward_value\n",
        "            cumulative_regret += regret\n",
        "\n",
        "            # Get the movie title using the movieId\n",
        "            movie_id = movies_ids[movie_idx]\n",
        "            movie_title = movie_name_mapping.get(movie_id, \"Unknown Movie\")\n",
        "\n",
        "            # Store results\n",
        "            result = {\n",
        "                'iteration': iteration,\n",
        "                'user': user,\n",
        "                'movie_id': movie_id,\n",
        "                'movie_title': movie_title,  # Include movie title in results\n",
        "                'user_id': np.random.choice(users),  # Random user for this step\n",
        "                'reward': reward_value,\n",
        "                'cumulative_regret': cumulative_regret,\n",
        "                'alpha': alphas[movie_idx],  # Include alpha in results\n",
        "                'beta': betas[movie_idx]    # Include beta in results\n",
        "            }\n",
        "            all_results.append(result)\n",
        "\n",
        "    # Convert results to a DataFrame\n",
        "    results_df = pd.DataFrame(all_results)\n",
        "    return results_df"
      ]
    },
    {
      "cell_type": "markdown",
      "source": [
        "## Plot Cummulaive Regret"
      ],
      "metadata": {
        "id": "OcJ5yB3ETlEe"
      }
    },
    {
      "cell_type": "code",
      "execution_count": 55,
      "metadata": {
        "id": "0xRPK3yyJgtF"
      },
      "outputs": [],
      "source": [
        "def plot_results(results_df):\n",
        "    \"\"\"\n",
        "    Plot the cumulative regret over time.\n",
        "    Args:\n",
        "        results_df (pd.DataFrame): Results of the simulation.\n",
        "    \"\"\"\n",
        "    # Plot cumulative regret averaged over iterations\n",
        "    avg_regret = results_df.groupby(\"user\")[\"cumulative_regret\"].mean()\n",
        "    plt.figure(figsize=(8, 6))\n",
        "    plt.plot(avg_regret.index, avg_regret.values, label=\"Cumulative Regret\")\n",
        "    plt.title(\"Thompson Sampling - Cummulative Regret\")\n",
        "    plt.xlabel(\"Recommendations\")\n",
        "    plt.ylabel(\"Cumulative Regret\")\n",
        "    plt.legend()\n",
        "    plt.show()"
      ]
    },
    {
      "cell_type": "markdown",
      "source": [
        "## Main"
      ],
      "metadata": {
        "id": "eAtsZaysTorc"
      }
    },
    {
      "cell_type": "code",
      "execution_count": null,
      "metadata": {
        "colab": {
          "base_uri": "https://localhost:8080/"
        },
        "id": "dZEOzJ41Jj8q",
        "outputId": "968abba5-4ffc-471b-9375-b8b7afa02b27"
      },
      "outputs": [
        {
          "output_type": "stream",
          "name": "stderr",
          "text": [
            "Iterations:  45%|████▌     | 9/20 [07:00<08:37, 47.06s/it]"
          ]
        }
      ],
      "source": [
        "# Main function to run Thompson Sampling on MoviesLens\n",
        "if __name__ == \"__main__\":\n",
        "\n",
        "    # Load and preprocess the dataset\n",
        "    rewards, movies = load_data(\"rating.csv\", \"movie.csv\", min_ratings=50)\n",
        "\n",
        "    # Run the simulation\n",
        "    n_users = 15000  # Number of users per iteration\n",
        "    n_iterations = 20  # Number of iterations\n",
        "    results_df = run_simulation(\n",
        "        n_users=n_users,\n",
        "        rewards=rewards,\n",
        "        movies=movies,\n",
        "        movie_col_name=\"movieId\",\n",
        "        userr_col_name=\"userId\",\n",
        "        reward_col_name=\"liked\",\n",
        "        n_iterations=n_iterations,\n",
        "        epsilon=0.5,  # Initial exploration rate\n",
        "        decay_rate=0.95  # Decay rate for exploration\n",
        "    )\n",
        "\n",
        "    # Plot the results\n",
        "    plot_results(results_df)"
      ]
    },
    {
      "cell_type": "code",
      "source": [],
      "metadata": {
        "id": "uNpequ0sAQEk"
      },
      "execution_count": null,
      "outputs": []
    }
  ],
  "metadata": {
    "accelerator": "GPU",
    "colab": {
      "gpuType": "L4",
      "machine_shape": "hm",
      "provenance": []
    },
    "kernelspec": {
      "display_name": "Python 3",
      "name": "python3"
    },
    "language_info": {
      "name": "python"
    }
  },
  "nbformat": 4,
  "nbformat_minor": 0
}